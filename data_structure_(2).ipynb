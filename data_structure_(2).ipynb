{
  "cells": [
    {
      "cell_type": "markdown",
      "metadata": {
        "id": "view-in-github",
        "colab_type": "text"
      },
      "source": [
        "<a href=\"https://colab.research.google.com/github/Codex-web01/data_structure/blob/main/data_structure_(2).ipynb\" target=\"_parent\"><img src=\"https://colab.research.google.com/assets/colab-badge.svg\" alt=\"Open In Colab\"/></a>"
      ]
    },
    {
      "cell_type": "markdown",
      "id": "705528c1-2b95-481d-9726-88c4b12051b7",
      "metadata": {
        "id": "705528c1-2b95-481d-9726-88c4b12051b7"
      },
      "source": [
        "# 1. Discuss string slicing and provide examples"
      ]
    },
    {
      "cell_type": "raw",
      "id": "56065699-669a-4379-8378-ef589766d9e2",
      "metadata": {
        "id": "56065699-669a-4379-8378-ef589766d9e2"
      },
      "source": [
        "soln- string slicing in python is a technique used to extract a part of a string. It can be done in various ways:-"
      ]
    },
    {
      "cell_type": "code",
      "execution_count": null,
      "id": "93ae95cc-bf65-4831-bb43-e9dd3edc91cd",
      "metadata": {
        "id": "93ae95cc-bf65-4831-bb43-e9dd3edc91cd",
        "outputId": "362dce21-65db-4cc8-a9d8-a09deb4508bb"
      },
      "outputs": [
        {
          "name": "stdout",
          "output_type": "stream",
          "text": [
            "Parijat S\n"
          ]
        }
      ],
      "source": [
        "#basic slicing\n",
        "s= \"Parijat Shukla\"\n",
        "slice = s[0:9] #extract characters from index 0 to 9\n",
        "print (slice)"
      ]
    },
    {
      "cell_type": "code",
      "execution_count": null,
      "id": "28531ba9-a9c0-4440-bd13-0dbcfa0830b6",
      "metadata": {
        "id": "28531ba9-a9c0-4440-bd13-0dbcfa0830b6",
        "outputId": "58bc10d0-c173-4d25-9776-6d9134504b43"
      },
      "outputs": [
        {
          "name": "stdout",
          "output_type": "stream",
          "text": [
            "PjSl\n"
          ]
        }
      ],
      "source": [
        "#using step\n",
        "s= \"Parijat Shukla\"\n",
        "slice_2 = s[::4] #every fourth character\n",
        "print (slice_2)\n"
      ]
    },
    {
      "cell_type": "markdown",
      "id": "04cd943a-655c-412c-b42f-700dc2ccae9d",
      "metadata": {
        "id": "04cd943a-655c-412c-b42f-700dc2ccae9d"
      },
      "source": [
        "# 2. Explain the key features of lists in python."
      ]
    },
    {
      "cell_type": "raw",
      "id": "335a6f76-939e-49a2-8964-ac182d48a361",
      "metadata": {
        "id": "335a6f76-939e-49a2-8964-ac182d48a361"
      },
      "source": [
        "soln- the key features of lists are :\n",
        "        -they are ordered\n",
        "        -mutable\n",
        "        -heterogeneous\n",
        "        -dynamic size"
      ]
    },
    {
      "cell_type": "markdown",
      "id": "950f619f-4a9f-4e76-a98b-da89005564d3",
      "metadata": {
        "id": "950f619f-4a9f-4e76-a98b-da89005564d3"
      },
      "source": [
        "# 3. Describe how to access, modify, and delete elements in a list with examples."
      ]
    },
    {
      "cell_type": "raw",
      "id": "be6f0126-100d-4dd2-86eb-61646c1f95c2",
      "metadata": {
        "id": "be6f0126-100d-4dd2-86eb-61646c1f95c2"
      },
      "source": [
        "soln- we can access elements in a list based on their index"
      ]
    },
    {
      "cell_type": "code",
      "execution_count": null,
      "id": "a9df82a4-6a4a-4001-98ba-0eccf1f400ad",
      "metadata": {
        "id": "a9df82a4-6a4a-4001-98ba-0eccf1f400ad",
        "outputId": "65b4b876-c1e1-43ee-a9fe-c866afea7e1e"
      },
      "outputs": [
        {
          "data": {
            "text/plain": [
              "'mango'"
            ]
          },
          "execution_count": 29,
          "metadata": {},
          "output_type": "execute_result"
        }
      ],
      "source": [
        "#accessing a element in a list\n",
        "l=[\"banana\", \"mango\", \"guava\", 2, 3, 2+5j]\n",
        "l[1]"
      ]
    },
    {
      "cell_type": "code",
      "execution_count": null,
      "id": "8472eb3d-edbd-4c8f-b6db-e63db5428fba",
      "metadata": {
        "id": "8472eb3d-edbd-4c8f-b6db-e63db5428fba",
        "outputId": "01c0550b-14b4-4f3a-8dbb-50d519699c57"
      },
      "outputs": [
        {
          "data": {
            "text/plain": [
              "['banana', 'mango', 'pineapple', 2, 3, (2+5j)]"
            ]
          },
          "execution_count": 30,
          "metadata": {},
          "output_type": "execute_result"
        }
      ],
      "source": [
        "#modifying a list\n",
        "l[2]= \"pineapple\"\n",
        "l"
      ]
    },
    {
      "cell_type": "code",
      "execution_count": null,
      "id": "c704b65a-4c9d-41f5-a7af-e9b274eb11d2",
      "metadata": {
        "id": "c704b65a-4c9d-41f5-a7af-e9b274eb11d2",
        "outputId": "30880af8-1dd6-4bd7-8e25-50fd7fe609b9"
      },
      "outputs": [
        {
          "data": {
            "text/plain": [
              "['banana', 'mango', 'pineapple', 3, (2+5j)]"
            ]
          },
          "execution_count": 31,
          "metadata": {},
          "output_type": "execute_result"
        }
      ],
      "source": [
        "#deleting an element\n",
        "l.pop(3)\n",
        "l"
      ]
    },
    {
      "cell_type": "code",
      "execution_count": null,
      "id": "b920e089-3d89-4aee-842b-86f23cf826d8",
      "metadata": {
        "id": "b920e089-3d89-4aee-842b-86f23cf826d8",
        "outputId": "00c03789-8b92-4b13-fc7d-10eb30eb9908"
      },
      "outputs": [
        {
          "data": {
            "text/plain": [
              "['banana', 'mango', 'pineapple', (2+5j)]"
            ]
          },
          "execution_count": 33,
          "metadata": {},
          "output_type": "execute_result"
        }
      ],
      "source": [
        "l.remove(3)\n",
        "l"
      ]
    },
    {
      "cell_type": "markdown",
      "id": "c969dfd8-e7f6-49ee-9d86-8725b22f09ac",
      "metadata": {
        "id": "c969dfd8-e7f6-49ee-9d86-8725b22f09ac"
      },
      "source": [
        "# 4. Compare and contrast tuples and lists with examples."
      ]
    },
    {
      "cell_type": "raw",
      "id": "9a419903-6e42-4ebf-8157-999331f3f076",
      "metadata": {
        "id": "9a419903-6e42-4ebf-8157-999331f3f076"
      },
      "source": [
        "soln- i) Tuples are immutable while lists are mutable (can be modified or changed).       ii) tuples are created using () while lists are created using [].\n",
        "iii) tuples are used for a fixed data such as dictionary keys, id numbers, coordinates, etc. while lists are used for dynamic data which can be modifed or changed"
      ]
    },
    {
      "cell_type": "markdown",
      "id": "5fb9a5ac-ad0c-4979-a6d8-d4722e93a600",
      "metadata": {
        "id": "5fb9a5ac-ad0c-4979-a6d8-d4722e93a600"
      },
      "source": [
        "# 5. Describe the key features of sets and provide examples or their use."
      ]
    },
    {
      "cell_type": "raw",
      "id": "58d0dcb1-66ec-41bc-b4f7-3938c8c82bfd",
      "metadata": {
        "id": "58d0dcb1-66ec-41bc-b4f7-3938c8c82bfd"
      },
      "source": [
        "A set is an unodered collection, means the element dont have any specific position or index.\n",
        "each time we access a set the elements may appear in a different order each time. Sets are mutable and automatically remove duplicate values, each element in a set must be unique. They are useful in performing mathematical operations."
      ]
    },
    {
      "cell_type": "markdown",
      "source": [],
      "metadata": {
        "id": "7hEzVPTfMBHJ"
      },
      "id": "7hEzVPTfMBHJ"
    },
    {
      "cell_type": "markdown",
      "id": "52ba5711-416b-478e-99e7-be935d6f2732",
      "metadata": {
        "id": "52ba5711-416b-478e-99e7-be935d6f2732"
      },
      "source": [
        "# 6. Discuss the use cases of tuples and sets in Python programming."
      ]
    },
    {
      "cell_type": "raw",
      "id": "be64b61d-c7c9-45c2-8029-a82391d6ce64",
      "metadata": {
        "id": "be64b61d-c7c9-45c2-8029-a82391d6ce64"
      },
      "source": [
        "soln- Tuples are used in geographic coordinates , keys in a dictionary , employ id , unique id in a company , etc. In simple words tuples are used in such places where values cannot be changed or modified.\n",
        "\n",
        "Sets are used to remove duplicates from a list or collection. it checks if an item exists in a collection or not. used to perform operations like union, intersection, difference. it is also used in uniqueness of elements , like storing user names and id."
      ]
    },
    {
      "cell_type": "markdown",
      "source": [],
      "metadata": {
        "id": "DSFXng1CMFk1"
      },
      "id": "DSFXng1CMFk1"
    },
    {
      "cell_type": "markdown",
      "id": "65f97b7d-570e-4d44-9239-5eed01573441",
      "metadata": {
        "id": "65f97b7d-570e-4d44-9239-5eed01573441"
      },
      "source": [
        "# 7.  Describe how to add, modify, and delete items in a dictionary with examples."
      ]
    },
    {
      "cell_type": "code",
      "execution_count": null,
      "id": "bf0e1ef8-6483-4f6a-bdfb-3b3e1d173799",
      "metadata": {
        "id": "bf0e1ef8-6483-4f6a-bdfb-3b3e1d173799",
        "outputId": "32682a4b-6aad-4327-a9c1-cf7c9a3a4454"
      },
      "outputs": [
        {
          "data": {
            "text/plain": [
              "{'name': 'Parijat', 'age': 22}"
            ]
          },
          "execution_count": 24,
          "metadata": {},
          "output_type": "execute_result"
        }
      ],
      "source": [
        "d = {'name': \"Parijat\", 'age': 22}\n",
        "d"
      ]
    },
    {
      "cell_type": "code",
      "execution_count": null,
      "id": "c400b044-8684-49a3-b351-ae15318472de",
      "metadata": {
        "id": "c400b044-8684-49a3-b351-ae15318472de",
        "outputId": "edcc1e63-b8d3-4dd1-d01c-5c3b05ecf998"
      },
      "outputs": [
        {
          "name": "stdout",
          "output_type": "stream",
          "text": [
            "{(1, 2): 'Parijat', 'city': 'Kolkata'}\n"
          ]
        }
      ],
      "source": [
        "# adding element\n",
        "d['city']= 'Kolkata'\n",
        "print (d)"
      ]
    },
    {
      "cell_type": "code",
      "execution_count": null,
      "id": "d07eb13f-478e-478e-91fa-e0005dad1edd",
      "metadata": {
        "id": "d07eb13f-478e-478e-91fa-e0005dad1edd",
        "outputId": "e7b62f1e-9fe8-4063-bc23-f8d8e1a11234"
      },
      "outputs": [
        {
          "name": "stdout",
          "output_type": "stream",
          "text": [
            "{(1, 2): 'Parijat', 'city': 'Dehradun'}\n"
          ]
        }
      ],
      "source": [
        "#modifying\n",
        "d['city']= 'Dehradun'\n",
        "print(d)"
      ]
    },
    {
      "cell_type": "code",
      "execution_count": null,
      "id": "f38801d4-a184-413a-a5e5-4a31300d74ad",
      "metadata": {
        "id": "f38801d4-a184-413a-a5e5-4a31300d74ad",
        "outputId": "b59af52e-41a5-454a-fc3e-6227e804b114"
      },
      "outputs": [
        {
          "name": "stdout",
          "output_type": "stream",
          "text": [
            "{(1, 2): 'Parijat'}\n"
          ]
        }
      ],
      "source": [
        "#deleting\n",
        "d.pop('age')\n",
        "print(d)"
      ]
    },
    {
      "cell_type": "markdown",
      "id": "57cb2412-ffad-4ad5-bdd8-8676c6db3967",
      "metadata": {
        "id": "57cb2412-ffad-4ad5-bdd8-8676c6db3967"
      },
      "source": [
        "# 8. Discuss the importance of dictionary keys being immutable and provide examples."
      ]
    },
    {
      "cell_type": "raw",
      "id": "50dba01e-c5e9-40ee-9d0e-8c4c9d79e9ad",
      "metadata": {
        "id": "50dba01e-c5e9-40ee-9d0e-8c4c9d79e9ad"
      },
      "source": [
        "soln- keys must be hashable and have a consistent hash values so thatit doesnot lead to inconsistent hashes. immutable keys allow for fast and reliable lookups in hash tables, which dictionaries use for storage.\n"
      ]
    },
    {
      "cell_type": "markdown",
      "source": [],
      "metadata": {
        "id": "n0VT76s7MHqi"
      },
      "id": "n0VT76s7MHqi"
    },
    {
      "cell_type": "code",
      "execution_count": null,
      "id": "bed9f889-7e32-4c58-9b8e-5c756b18ba3e",
      "metadata": {
        "id": "bed9f889-7e32-4c58-9b8e-5c756b18ba3e",
        "outputId": "fdb60a2f-f3cb-4803-8356-6b16b245c210"
      },
      "outputs": [
        {
          "data": {
            "text/plain": [
              "{(1, 2): 'Parijat', 'age': 22}"
            ]
          },
          "execution_count": 19,
          "metadata": {},
          "output_type": "execute_result"
        }
      ],
      "source": [
        "#examples\n",
        "d = {(1, 2): \"Parijat\", 'age': 22} #tuple and string are immutable keys\n",
        "d"
      ]
    },
    {
      "cell_type": "code",
      "execution_count": null,
      "id": "da9f9c6c-a9e3-4e03-aa73-d7c30d52213a",
      "metadata": {
        "id": "da9f9c6c-a9e3-4e03-aa73-d7c30d52213a",
        "outputId": "447b641a-8dbc-4146-f150-4be28a22094b"
      },
      "outputs": [
        {
          "ename": "TypeError",
          "evalue": "unhashable type: 'list'",
          "output_type": "error",
          "traceback": [
            "\u001b[1;31m---------------------------------------------------------------------------\u001b[0m",
            "\u001b[1;31mTypeError\u001b[0m                                 Traceback (most recent call last)",
            "Cell \u001b[1;32mIn[20], line 1\u001b[0m\n\u001b[1;32m----> 1\u001b[0m d \u001b[38;5;241m=\u001b[39m {[\u001b[38;5;241m1\u001b[39m, \u001b[38;5;241m2\u001b[39m]: \u001b[38;5;124m\"\u001b[39m\u001b[38;5;124mParijat\u001b[39m\u001b[38;5;124m\"\u001b[39m, \u001b[38;5;124m'\u001b[39m\u001b[38;5;124mage\u001b[39m\u001b[38;5;124m'\u001b[39m: \u001b[38;5;241m22\u001b[39m} \u001b[38;5;66;03m#lists are mutable that's why throwing an error\u001b[39;00m\n",
            "\u001b[1;31mTypeError\u001b[0m: unhashable type: 'list'"
          ]
        }
      ],
      "source": [
        "d = {[1, 2]: \"Parijat\", 'age': 22} #lists are mutable that's why throwing an error"
      ]
    },
    {
      "cell_type": "code",
      "execution_count": null,
      "id": "fc4c29e4-94ad-42a1-896d-930ab0600911",
      "metadata": {
        "id": "fc4c29e4-94ad-42a1-896d-930ab0600911"
      },
      "outputs": [],
      "source": []
    }
  ],
  "metadata": {
    "kernelspec": {
      "display_name": "Python 3 (ipykernel)",
      "language": "python",
      "name": "python3"
    },
    "language_info": {
      "codemirror_mode": {
        "name": "ipython",
        "version": 3
      },
      "file_extension": ".py",
      "mimetype": "text/x-python",
      "name": "python",
      "nbconvert_exporter": "python",
      "pygments_lexer": "ipython3",
      "version": "3.12.6"
    },
    "colab": {
      "provenance": [],
      "include_colab_link": true
    }
  },
  "nbformat": 4,
  "nbformat_minor": 5
}